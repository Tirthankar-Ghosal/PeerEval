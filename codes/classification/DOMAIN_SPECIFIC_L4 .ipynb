{
  "nbformat": 4,
  "nbformat_minor": 0,
  "metadata": {
    "colab": {
      "name": "DOMAIN_SPECIFIC_L4.ipynb",
      "provenance": []
    },
    "kernelspec": {
      "name": "python3",
      "display_name": "Python 3"
    }
  },
  "cells": [
    {
      "cell_type": "code",
      "metadata": {
        "id": "tWFdBV4qGvSV"
      },
      "source": [
        "import pre\n",
        "from sklearn import preprocessing\n",
        "from sklearn.feature_extraction.text import TfidfVectorizer\n",
        "from sklearn.metrics import f1_score\n",
        "from sklearn.metrics import recall_score\n",
        "from sklearn.metrics import accuracy_score\n",
        "from sklearn.metrics import precision_score\n",
        "label=label=pre.create_label(3)\n",
        "corpus=pre.create_sentence_list(0)\n",
        "\n",
        "fileid=pre.fileid\n"
      ],
      "execution_count": null,
      "outputs": []
    },
    {
      "cell_type": "code",
      "metadata": {
        "id": "doyhnG0zHDBq"
      },
      "source": [
        "new_label=[]\n",
        "new_tv=[]\n",
        "new_fileid=[]\n",
        "new_corpus=[]\n",
        "length = len(corpus)\n",
        "for i in range(0, length):\n",
        "  for j in range(0,len(label[i])):\n",
        "    new_corpus.append(corpus[i])\n",
        "    new_label.append(label[i][j])\n",
        "    new_fileid.append(fileid[i])\n",
        "# df=pre.pd.DataFrame(pre.np.round(new_tv, 10), columns=vocab)\n",
        "# #df_tfidf.insert(0, \"sentences\", corpus)\n",
        "# df_tfidf[\"tag\"]=new_label\n",
        "# df_tfidf"
      ],
      "execution_count": null,
      "outputs": []
    },
    {
      "cell_type": "code",
      "metadata": {
        "id": "WZZSiCt9vRQw",
        "outputId": "35953080-8690-4bc4-e85a-66d02500d4f7",
        "colab": {
          "base_uri": "https://localhost:8080/",
          "height": 51
        }
      },
      "source": [
        "!nltk.download('maxent_ne_chunker')\n",
        "\n",
        "sentences=new_corpus"
      ],
      "execution_count": null,
      "outputs": [
        {
          "output_type": "stream",
          "text": [
            "/bin/bash: -c: line 0: syntax error near unexpected token `'maxent_ne_chunker''\n",
            "/bin/bash: -c: line 0: `nltk.download('maxent_ne_chunker')'\n"
          ],
          "name": "stdout"
        }
      ]
    },
    {
      "cell_type": "code",
      "metadata": {
        "id": "hz3jyLDUvoqJ"
      },
      "source": [
        "from nltk.tag import pos_tag\n",
        "from nltk import ne_chunk\n",
        "from nltk.tokenize import word_tokenize\n",
        "import spacy \n",
        "from collections import Counter\n",
        "nlp = spacy.load('en_core_web_sm') \n",
        "\n",
        "verb_count=[]\n",
        "noun_count=[]\n",
        "adjective_count=[]\n",
        "cardinal_count=[]\n",
        "is_date=[]\n",
        "adverb_count=[]\n",
        "for sent in sentences:\n",
        "  text= pos_tag(word_tokenize(sent))\n",
        "  count= Counter([j for i,j in pos_tag(word_tokenize(sent))])\n",
        "  noun_count.append(count['NN']+count['NNS']+count['NNP']+count['NNPS'])\n",
        "  verb_count.append(count['VBZ']+count['VB']+count['VBD']+count['VBG']+count['VBN']+count['VBP'])\n",
        "  adjective_count.append(count['JJ']+count['JJR']+count['JJS'])\n",
        "  cardinal_count.append(count['CD'])\n",
        "  adverb_count.append(count['RB']+count['RBR']+count['RBS'])\n",
        "\n",
        "\n",
        "  doc = nlp(sent)\n",
        "  ner_labels= ([X.label_ for X in doc.ents])\n",
        "  if 'DATE' in ner_labels:\n",
        "    is_date.append(1)\n",
        "  else:\n",
        "    is_date.append(0)"
      ],
      "execution_count": null,
      "outputs": []
    },
    {
      "cell_type": "code",
      "metadata": {
        "id": "CkfAG4PNAx1d",
        "outputId": "a585d5d5-7e73-4783-85f9-a2765c306195",
        "colab": {
          "base_uri": "https://localhost:8080/",
          "height": 54
        }
      },
      "source": [
        "def word_count(str):\n",
        "    counts = dict()\n",
        "    words = str.split()\n",
        "\n",
        "    for word in words:\n",
        "        if word in counts:\n",
        "            counts[word] += 1\n",
        "        else:\n",
        "            counts[word] = 1\n",
        "\n",
        "    return counts\n",
        "\n",
        "print( word_count('the quick brown fox jumps over the lazy dog.'))"
      ],
      "execution_count": null,
      "outputs": [
        {
          "output_type": "stream",
          "text": [
            "{'the': 2, 'quick': 1, 'brown': 1, 'fox': 1, 'jumps': 1, 'over': 1, 'lazy': 1, 'dog.': 1}\n"
          ],
          "name": "stdout"
        }
      ]
    },
    {
      "cell_type": "code",
      "metadata": {
        "id": "oQiPKuXKnISs"
      },
      "source": [
        "mathematical_terms= ['Addition', 'Add', 'Sum', 'Plus', 'Increase', 'Total',\n",
        "'Subtraction', 'Subtract', 'Minus', 'Less', 'Difference', 'Decrease', 'Deduct'\n",
        ",'Multiplication', 'Multiply',' Product', 'By', 'Times','Division', 'Divide', 'Quotient','variables']\n",
        "\n",
        "question_word=['which', 'what','whose','who', 'whom', 'whose','what', 'which','where','whither' ,'whence' ,'when','how','why','whether']\n",
        "\n",
        "abs_terms = ['Interesting','stronger','well','written','novelty','quite','organized','clear','accept']\n",
        "intro_terms=['not clear', 'missing','seems', 'quite','limited','lacking','but']\n",
        "rel_wrk=['discusses', 'problem', 'present']"
      ],
      "execution_count": null,
      "outputs": []
    },
    {
      "cell_type": "code",
      "metadata": {
        "id": "HHU292uMgAn8"
      },
      "source": [
        "math_count=[]\n",
        "ques_wcount=[]\n",
        "f1=[]\n",
        "f2=[]\n",
        "f3=[]\n",
        "\n",
        "\n",
        "for sent in sentences:\n",
        "  dic= word_count(sent)\n",
        "\n",
        "  count=0     #mathematical\n",
        "  for word in mathematical_terms:\n",
        "    word=word.lower()\n",
        "    if word in dic.keys():\n",
        "      count=count+dic[word]\n",
        "  math_count.append(count)\n",
        "\n",
        "  count=0     #question word\n",
        "  for word in question_word:\n",
        "    word=word.lower()\n",
        "    if word in dic.keys():\n",
        "      count=count+dic[word]\n",
        "  ques_wcount.append(count)\n",
        "\n",
        "  count=0     #ABS word\n",
        "  for word in abs_terms:\n",
        "    word=word.lower()\n",
        "    if word in dic.keys():\n",
        "      count=count+dic[word]\n",
        "  f1.append(count)\n",
        "\n",
        "  count=0     #INTRO word\n",
        "  for word in intro_terms:\n",
        "    word=word.lower()\n",
        "    if word in dic.keys():\n",
        "      count=count+dic[word]\n",
        "  f2.append(count)\n",
        "\n",
        "  count=0     #REL word\n",
        "  for word in rel_wrk:\n",
        "    word=word.lower()\n",
        "    if word in dic.keys():\n",
        "      count=count+dic[word]\n",
        "  f3.append(count)\n",
        "\n",
        "\n"
      ],
      "execution_count": null,
      "outputs": []
    },
    {
      "cell_type": "code",
      "metadata": {
        "id": "DR-VUMNUgLv9"
      },
      "source": [
        "def punctuation(str,p):\n",
        "  count = 0; \n",
        "  for i in range (0, len (str)):   \n",
        "      #Checks whether given character is a punctuation mark  \n",
        "      if str[i] in (p):  \n",
        "          count = count + 1;  \n",
        "  return count\n"
      ],
      "execution_count": null,
      "outputs": []
    },
    {
      "cell_type": "code",
      "metadata": {
        "id": "0qRCewJuo32x"
      },
      "source": [
        "num_qmark=[]\n",
        "num_excla=[]\n",
        "num_per=[]\n",
        "et_al=[]\n",
        "for sent in sentences:\n",
        "  num_qmark.append(punctuation(sent,'?'))\n",
        "  num_excla.append(punctuation(sent,'!'))\n",
        "  num_per.append(punctuation(sent,'%'))\n",
        "  et_al.append(punctuation(sent,'et al'))\n"
      ],
      "execution_count": null,
      "outputs": []
    },
    {
      "cell_type": "code",
      "metadata": {
        "id": "3J7zWdWzcuqQ"
      },
      "source": [
        "avg_len=[]\n",
        "for sent in sentences:\n",
        "  count=0\n",
        "  words= word_tokenize(sent)\n",
        "  for word in words:\n",
        "    count=count+len(word)\n",
        "  if(len(words)!=0):\n",
        "    avg_len.append(count/len(words))\n",
        "  else:\n",
        "    avg_len.append(0)\n"
      ],
      "execution_count": null,
      "outputs": []
    },
    {
      "cell_type": "code",
      "metadata": {
        "id": "5KAzc5HyhTJM",
        "outputId": "6cf59162-1a27-488a-a597-63068c8039d3",
        "colab": {
          "base_uri": "https://localhost:8080/",
          "height": 439
        }
      },
      "source": [
        "dic={'verb':verb_count,'noun':noun_count,'adj':adjective_count,'qmark':num_qmark,'excla':num_excla,'%':num_per,'number':cardinal_count,'date':is_date,'adverb':adverb_count,\\\n",
        "     'math':math_count,'ques':ques_wcount,'avg_len':avg_len,'f1':f1,'f2':f2,'f3':f3}\n",
        "df=pre.pd.DataFrame(dic)\n",
        "df['tag']=new_label\n",
        "df"
      ],
      "execution_count": null,
      "outputs": [
        {
          "output_type": "execute_result",
          "data": {
            "text/html": [
              "<div>\n",
              "<style scoped>\n",
              "    .dataframe tbody tr th:only-of-type {\n",
              "        vertical-align: middle;\n",
              "    }\n",
              "\n",
              "    .dataframe tbody tr th {\n",
              "        vertical-align: top;\n",
              "    }\n",
              "\n",
              "    .dataframe thead th {\n",
              "        text-align: right;\n",
              "    }\n",
              "</style>\n",
              "<table border=\"1\" class=\"dataframe\">\n",
              "  <thead>\n",
              "    <tr style=\"text-align: right;\">\n",
              "      <th></th>\n",
              "      <th>verb</th>\n",
              "      <th>noun</th>\n",
              "      <th>adj</th>\n",
              "      <th>qmark</th>\n",
              "      <th>excla</th>\n",
              "      <th>%</th>\n",
              "      <th>number</th>\n",
              "      <th>date</th>\n",
              "      <th>adverb</th>\n",
              "      <th>math</th>\n",
              "      <th>ques</th>\n",
              "      <th>avg_len</th>\n",
              "      <th>f1</th>\n",
              "      <th>f2</th>\n",
              "      <th>f3</th>\n",
              "      <th>tag</th>\n",
              "    </tr>\n",
              "  </thead>\n",
              "  <tbody>\n",
              "    <tr>\n",
              "      <th>0</th>\n",
              "      <td>2</td>\n",
              "      <td>7</td>\n",
              "      <td>4</td>\n",
              "      <td>0</td>\n",
              "      <td>0</td>\n",
              "      <td>0</td>\n",
              "      <td>0</td>\n",
              "      <td>0</td>\n",
              "      <td>1</td>\n",
              "      <td>0</td>\n",
              "      <td>0</td>\n",
              "      <td>5.607143</td>\n",
              "      <td>0</td>\n",
              "      <td>0</td>\n",
              "      <td>1</td>\n",
              "      <td>GEN</td>\n",
              "    </tr>\n",
              "    <tr>\n",
              "      <th>1</th>\n",
              "      <td>3</td>\n",
              "      <td>9</td>\n",
              "      <td>2</td>\n",
              "      <td>0</td>\n",
              "      <td>0</td>\n",
              "      <td>0</td>\n",
              "      <td>0</td>\n",
              "      <td>0</td>\n",
              "      <td>0</td>\n",
              "      <td>0</td>\n",
              "      <td>0</td>\n",
              "      <td>5.333333</td>\n",
              "      <td>0</td>\n",
              "      <td>0</td>\n",
              "      <td>0</td>\n",
              "      <td>GEN</td>\n",
              "    </tr>\n",
              "    <tr>\n",
              "      <th>2</th>\n",
              "      <td>1</td>\n",
              "      <td>2</td>\n",
              "      <td>2</td>\n",
              "      <td>0</td>\n",
              "      <td>0</td>\n",
              "      <td>0</td>\n",
              "      <td>0</td>\n",
              "      <td>0</td>\n",
              "      <td>0</td>\n",
              "      <td>0</td>\n",
              "      <td>0</td>\n",
              "      <td>3.444444</td>\n",
              "      <td>0</td>\n",
              "      <td>0</td>\n",
              "      <td>0</td>\n",
              "      <td>MAJ</td>\n",
              "    </tr>\n",
              "    <tr>\n",
              "      <th>3</th>\n",
              "      <td>3</td>\n",
              "      <td>3</td>\n",
              "      <td>1</td>\n",
              "      <td>0</td>\n",
              "      <td>0</td>\n",
              "      <td>0</td>\n",
              "      <td>0</td>\n",
              "      <td>0</td>\n",
              "      <td>2</td>\n",
              "      <td>1</td>\n",
              "      <td>0</td>\n",
              "      <td>4.785714</td>\n",
              "      <td>0</td>\n",
              "      <td>0</td>\n",
              "      <td>0</td>\n",
              "      <td>MIN</td>\n",
              "    </tr>\n",
              "    <tr>\n",
              "      <th>4</th>\n",
              "      <td>4</td>\n",
              "      <td>7</td>\n",
              "      <td>2</td>\n",
              "      <td>0</td>\n",
              "      <td>0</td>\n",
              "      <td>0</td>\n",
              "      <td>0</td>\n",
              "      <td>0</td>\n",
              "      <td>0</td>\n",
              "      <td>1</td>\n",
              "      <td>0</td>\n",
              "      <td>5.434783</td>\n",
              "      <td>0</td>\n",
              "      <td>0</td>\n",
              "      <td>0</td>\n",
              "      <td>GEN</td>\n",
              "    </tr>\n",
              "    <tr>\n",
              "      <th>...</th>\n",
              "      <td>...</td>\n",
              "      <td>...</td>\n",
              "      <td>...</td>\n",
              "      <td>...</td>\n",
              "      <td>...</td>\n",
              "      <td>...</td>\n",
              "      <td>...</td>\n",
              "      <td>...</td>\n",
              "      <td>...</td>\n",
              "      <td>...</td>\n",
              "      <td>...</td>\n",
              "      <td>...</td>\n",
              "      <td>...</td>\n",
              "      <td>...</td>\n",
              "      <td>...</td>\n",
              "      <td>...</td>\n",
              "    </tr>\n",
              "    <tr>\n",
              "      <th>20793</th>\n",
              "      <td>4</td>\n",
              "      <td>5</td>\n",
              "      <td>2</td>\n",
              "      <td>0</td>\n",
              "      <td>0</td>\n",
              "      <td>0</td>\n",
              "      <td>0</td>\n",
              "      <td>0</td>\n",
              "      <td>1</td>\n",
              "      <td>0</td>\n",
              "      <td>0</td>\n",
              "      <td>4.782609</td>\n",
              "      <td>1</td>\n",
              "      <td>0</td>\n",
              "      <td>0</td>\n",
              "      <td>MIN</td>\n",
              "    </tr>\n",
              "    <tr>\n",
              "      <th>20794</th>\n",
              "      <td>5</td>\n",
              "      <td>9</td>\n",
              "      <td>3</td>\n",
              "      <td>0</td>\n",
              "      <td>0</td>\n",
              "      <td>0</td>\n",
              "      <td>0</td>\n",
              "      <td>0</td>\n",
              "      <td>0</td>\n",
              "      <td>0</td>\n",
              "      <td>0</td>\n",
              "      <td>6.120000</td>\n",
              "      <td>1</td>\n",
              "      <td>0</td>\n",
              "      <td>0</td>\n",
              "      <td>MAJ</td>\n",
              "    </tr>\n",
              "    <tr>\n",
              "      <th>20795</th>\n",
              "      <td>2</td>\n",
              "      <td>3</td>\n",
              "      <td>2</td>\n",
              "      <td>0</td>\n",
              "      <td>0</td>\n",
              "      <td>0</td>\n",
              "      <td>0</td>\n",
              "      <td>0</td>\n",
              "      <td>1</td>\n",
              "      <td>0</td>\n",
              "      <td>0</td>\n",
              "      <td>5.833333</td>\n",
              "      <td>0</td>\n",
              "      <td>0</td>\n",
              "      <td>0</td>\n",
              "      <td>MAJ</td>\n",
              "    </tr>\n",
              "    <tr>\n",
              "      <th>20796</th>\n",
              "      <td>3</td>\n",
              "      <td>1</td>\n",
              "      <td>0</td>\n",
              "      <td>0</td>\n",
              "      <td>0</td>\n",
              "      <td>0</td>\n",
              "      <td>0</td>\n",
              "      <td>0</td>\n",
              "      <td>1</td>\n",
              "      <td>0</td>\n",
              "      <td>0</td>\n",
              "      <td>4.500000</td>\n",
              "      <td>1</td>\n",
              "      <td>0</td>\n",
              "      <td>0</td>\n",
              "      <td>MAJ</td>\n",
              "    </tr>\n",
              "    <tr>\n",
              "      <th>20797</th>\n",
              "      <td>4</td>\n",
              "      <td>4</td>\n",
              "      <td>3</td>\n",
              "      <td>0</td>\n",
              "      <td>0</td>\n",
              "      <td>0</td>\n",
              "      <td>1</td>\n",
              "      <td>0</td>\n",
              "      <td>1</td>\n",
              "      <td>0</td>\n",
              "      <td>0</td>\n",
              "      <td>3.166667</td>\n",
              "      <td>0</td>\n",
              "      <td>0</td>\n",
              "      <td>0</td>\n",
              "      <td>MIN</td>\n",
              "    </tr>\n",
              "  </tbody>\n",
              "</table>\n",
              "<p>20798 rows × 16 columns</p>\n",
              "</div>"
            ],
            "text/plain": [
              "       verb  noun  adj  qmark  excla  %  ...  ques   avg_len  f1  f2  f3  tag\n",
              "0         2     7    4      0      0  0  ...     0  5.607143   0   0   1  GEN\n",
              "1         3     9    2      0      0  0  ...     0  5.333333   0   0   0  GEN\n",
              "2         1     2    2      0      0  0  ...     0  3.444444   0   0   0  MAJ\n",
              "3         3     3    1      0      0  0  ...     0  4.785714   0   0   0  MIN\n",
              "4         4     7    2      0      0  0  ...     0  5.434783   0   0   0  GEN\n",
              "...     ...   ...  ...    ...    ... ..  ...   ...       ...  ..  ..  ..  ...\n",
              "20793     4     5    2      0      0  0  ...     0  4.782609   1   0   0  MIN\n",
              "20794     5     9    3      0      0  0  ...     0  6.120000   1   0   0  MAJ\n",
              "20795     2     3    2      0      0  0  ...     0  5.833333   0   0   0  MAJ\n",
              "20796     3     1    0      0      0  0  ...     0  4.500000   1   0   0  MAJ\n",
              "20797     4     4    3      0      0  0  ...     0  3.166667   0   0   0  MIN\n",
              "\n",
              "[20798 rows x 16 columns]"
            ]
          },
          "metadata": {
            "tags": []
          },
          "execution_count": 32
        }
      ]
    },
    {
      "cell_type": "markdown",
      "metadata": {
        "id": "qREbw8OPycaE"
      },
      "source": [
        "CREATE X"
      ]
    },
    {
      "cell_type": "code",
      "metadata": {
        "id": "a04GT2iKm4mQ",
        "outputId": "76433ab8-9ab0-4cab-ba18-4e4919d8ee05",
        "colab": {
          "base_uri": "https://localhost:8080/",
          "height": 34
        }
      },
      "source": [
        "import numpy as np\n",
        "X_df=df[df.columns[0:-1]] #X dataframe\n",
        "X=X_df.to_numpy()    # X in array\n",
        "y=df[\"tag\"]\n",
        "print(np.unique(df[\"tag\"]))\n",
        "class_names=np.unique(df[\"tag\"])"
      ],
      "execution_count": null,
      "outputs": [
        {
          "output_type": "stream",
          "text": [
            "['CNT' 'GEN' 'MAJ' 'MIN']\n"
          ],
          "name": "stdout"
        }
      ]
    },
    {
      "cell_type": "markdown",
      "metadata": {
        "id": "D6jtsqQ_yfWm"
      },
      "source": [
        "SPLIT"
      ]
    },
    {
      "cell_type": "code",
      "metadata": {
        "id": "RcsCHHisybnz",
        "outputId": "15adcb30-63c6-457d-9c6c-e238ef384036",
        "colab": {
          "base_uri": "https://localhost:8080/",
          "height": 51
        }
      },
      "source": [
        "from sklearn.model_selection import train_test_split\n",
        "from collections import Counter\n",
        "X_tr, X_test, y_tr, y_test = train_test_split(X, y, test_size=0.33, shuffle=False)\n",
        "y_tr=y_tr.reset_index()['tag'].tolist()\n",
        "print(X_tr.shape)\n",
        "print(len(y_tr))"
      ],
      "execution_count": null,
      "outputs": [
        {
          "output_type": "stream",
          "text": [
            "(13934, 15)\n",
            "13934\n"
          ],
          "name": "stdout"
        }
      ]
    },
    {
      "cell_type": "code",
      "metadata": {
        "id": "TVzyGuxbRiFP"
      },
      "source": [
        "X_train=X_tr\n",
        "y_train=y_tr"
      ],
      "execution_count": null,
      "outputs": []
    },
    {
      "cell_type": "markdown",
      "metadata": {
        "id": "Vk-Bpk_SyjOY"
      },
      "source": [
        "FITTING"
      ]
    },
    {
      "cell_type": "code",
      "metadata": {
        "id": "ZEEHCtTl0ISo",
        "outputId": "b9f4f1d6-e785-4622-fe2d-68348f66f32d",
        "colab": {
          "base_uri": "https://localhost:8080/",
          "height": 51
        }
      },
      "source": [
        "print(X_train.shape)\n",
        "len(y_train)\n"
      ],
      "execution_count": null,
      "outputs": [
        {
          "output_type": "stream",
          "text": [
            "(13934, 15)\n"
          ],
          "name": "stdout"
        },
        {
          "output_type": "execute_result",
          "data": {
            "text/plain": [
              "13934"
            ]
          },
          "metadata": {
            "tags": []
          },
          "execution_count": 36
        }
      ]
    },
    {
      "cell_type": "markdown",
      "metadata": {
        "id": "ik51MiH1ys0K"
      },
      "source": [
        "LOGISTIC"
      ]
    },
    {
      "cell_type": "code",
      "metadata": {
        "id": "TN8_qh9nymlD",
        "outputId": "febdb551-d71a-4c03-f120-a8d7aca6af3e",
        "colab": {
          "base_uri": "https://localhost:8080/",
          "height": 221
        }
      },
      "source": [
        "import sklearn.metrics as metrics\n",
        "from sklearn.linear_model import LogisticRegression\n",
        "from sklearn.metrics import f1_score\n",
        "logmodel = LogisticRegression(class_weight='balanced',solver='liblinear')\n",
        "logmodel.fit(X_train,y_train)\n",
        "y_pred = logmodel.predict(X_test)\n",
        "from sklearn.metrics import classification_report\n",
        "print(classification_report(y_test,y_pred,zero_division=1))\n",
        "print(\"Accuracy:\",metrics.accuracy_score(y_test, y_pred))"
      ],
      "execution_count": null,
      "outputs": [
        {
          "output_type": "stream",
          "text": [
            "              precision    recall  f1-score   support\n",
            "\n",
            "         CNT       0.00      0.00      0.00         9\n",
            "         GEN       0.46      0.53      0.49      1815\n",
            "         MAJ       0.50      0.45      0.47      2442\n",
            "         MIN       0.58      0.43      0.50      2598\n",
            "\n",
            "    accuracy                           0.46      6864\n",
            "   macro avg       0.39      0.35      0.36      6864\n",
            "weighted avg       0.52      0.46      0.49      6864\n",
            "\n",
            "Accuracy: 0.4616841491841492\n"
          ],
          "name": "stdout"
        }
      ]
    },
    {
      "cell_type": "markdown",
      "metadata": {
        "id": "jJnpvsj8y5jg"
      },
      "source": [
        "MULTINOMIAL"
      ]
    },
    {
      "cell_type": "code",
      "metadata": {
        "id": "EI9sMxUMy7T4",
        "outputId": "c98d0a9d-90f7-4495-a629-3d20baa25e86",
        "colab": {
          "base_uri": "https://localhost:8080/",
          "height": 221
        }
      },
      "source": [
        "import sklearn.metrics as metrics\n",
        "from sklearn.naive_bayes import MultinomialNB\n",
        "clf = MultinomialNB()\n",
        "clf.fit(X_train,y_train)\n",
        "y_pred = clf.predict(X_test)\n",
        "from sklearn.metrics import classification_report\n",
        "print(classification_report(y_test,y_pred))\n",
        "print(\"Accuracy:\",metrics.accuracy_score(y_test, y_pred))"
      ],
      "execution_count": null,
      "outputs": [
        {
          "output_type": "stream",
          "text": [
            "              precision    recall  f1-score   support\n",
            "\n",
            "         CNT       0.00      0.00      0.00         9\n",
            "         GEN       0.47      0.49      0.48      1815\n",
            "         MAJ       0.48      0.58      0.53      2442\n",
            "         MIN       0.56      0.44      0.49      2598\n",
            "\n",
            "    accuracy                           0.50      6864\n",
            "   macro avg       0.38      0.38      0.37      6864\n",
            "weighted avg       0.51      0.50      0.50      6864\n",
            "\n",
            "Accuracy: 0.5018939393939394\n"
          ],
          "name": "stdout"
        }
      ]
    },
    {
      "cell_type": "markdown",
      "metadata": {
        "id": "0fPeqGRGy-Sk"
      },
      "source": [
        "RANDOM FOREST"
      ]
    },
    {
      "cell_type": "code",
      "metadata": {
        "id": "CfrKxHJgy_q4",
        "outputId": "f62fb529-89b6-4bd4-c764-0d0069784281",
        "colab": {
          "base_uri": "https://localhost:8080/",
          "height": 221
        }
      },
      "source": [
        "from sklearn.ensemble import RandomForestClassifier\n",
        "\n",
        "# Create the model with 100 trees\n",
        "clf = RandomForestClassifier(n_estimators=100, \n",
        "                               bootstrap = True,\n",
        "                               max_features = 'sqrt',class_weight='balanced_subsample')\n",
        "\n",
        "import sklearn.metrics as metrics\n",
        "clf.fit(X_train,y_train)\n",
        "y_pred = clf.predict(X_test)\n",
        "from sklearn.metrics import classification_report\n",
        "print(classification_report(y_test,y_pred,zero_division=1))\n",
        "print(\"Accuracy:\",metrics.accuracy_score(y_test, y_pred))"
      ],
      "execution_count": null,
      "outputs": [
        {
          "output_type": "stream",
          "text": [
            "              precision    recall  f1-score   support\n",
            "\n",
            "         CNT       0.00      0.00      0.00         9\n",
            "         GEN       0.45      0.40      0.42      1815\n",
            "         MAJ       0.47      0.48      0.48      2442\n",
            "         MIN       0.50      0.53      0.51      2598\n",
            "\n",
            "    accuracy                           0.48      6864\n",
            "   macro avg       0.35      0.35      0.35      6864\n",
            "weighted avg       0.47      0.48      0.48      6864\n",
            "\n",
            "Accuracy: 0.476544289044289\n"
          ],
          "name": "stdout"
        }
      ]
    },
    {
      "cell_type": "markdown",
      "metadata": {
        "id": "MdbkCZM4zDoc"
      },
      "source": [
        "SVM"
      ]
    },
    {
      "cell_type": "code",
      "metadata": {
        "id": "qOwpth8XzEXB",
        "outputId": "f5d76767-2140-4156-ad3f-026c8be66e9a",
        "colab": {
          "base_uri": "https://localhost:8080/",
          "height": 221
        }
      },
      "source": [
        "from sklearn import svm\n",
        "from sklearn.model_selection import train_test_split\n",
        "# Make a decision tree and train\n",
        "clf = svm.SVC(class_weight='balanced',decision_function_shape='ovo')\n",
        "import sklearn.metrics as metrics\n",
        "clf.fit(X_train,y_train)\n",
        "y_pred = clf.predict(X_test)\n",
        "from sklearn.metrics import classification_report\n",
        "print(classification_report(y_test,y_pred,zero_division=1))\n",
        "print(\"Accuracy:\",metrics.accuracy_score(y_test, y_pred))"
      ],
      "execution_count": null,
      "outputs": [
        {
          "output_type": "stream",
          "text": [
            "              precision    recall  f1-score   support\n",
            "\n",
            "         CNT       0.00      0.11      0.00         9\n",
            "         GEN       0.43      0.58      0.50      1815\n",
            "         MAJ       0.50      0.47      0.48      2442\n",
            "         MIN       0.64      0.31      0.42      2598\n",
            "\n",
            "    accuracy                           0.44      6864\n",
            "   macro avg       0.39      0.37      0.35      6864\n",
            "weighted avg       0.53      0.44      0.46      6864\n",
            "\n",
            "Accuracy: 0.4377913752913753\n"
          ],
          "name": "stdout"
        }
      ]
    },
    {
      "cell_type": "markdown",
      "metadata": {
        "id": "DUVPTgIhzKa9"
      },
      "source": [
        "SGD"
      ]
    },
    {
      "cell_type": "code",
      "metadata": {
        "id": "bcvbBNGNzLDS",
        "outputId": "80c5f6dc-7ed1-4a97-9542-fa5163ed2f09",
        "colab": {
          "base_uri": "https://localhost:8080/",
          "height": 275
        }
      },
      "source": [
        "\n",
        "from sklearn.linear_model import SGDClassifier\n",
        "clf = SGDClassifier(loss=\"hinge\", penalty=\"l2\", max_iter=5)\n",
        "clf.fit(X_train, y_train)\n",
        "y_pred = clf.predict(X_test)\n",
        "from sklearn.metrics import classification_report\n",
        "print(classification_report(y_test,y_pred,zero_division=1))\n",
        "print(\"Accuracy:\",metrics.accuracy_score(y_test, y_pred))"
      ],
      "execution_count": null,
      "outputs": [
        {
          "output_type": "stream",
          "text": [
            "/usr/local/lib/python3.6/dist-packages/sklearn/linear_model/_stochastic_gradient.py:557: ConvergenceWarning: Maximum number of iteration reached before convergence. Consider increasing max_iter to improve the fit.\n",
            "  ConvergenceWarning)\n"
          ],
          "name": "stderr"
        },
        {
          "output_type": "stream",
          "text": [
            "              precision    recall  f1-score   support\n",
            "\n",
            "         CNT       1.00      0.00      0.00         9\n",
            "         GEN       0.37      0.53      0.44      1815\n",
            "         MAJ       0.42      0.67      0.51      2442\n",
            "         MIN       0.79      0.11      0.19      2598\n",
            "\n",
            "    accuracy                           0.42      6864\n",
            "   macro avg       0.64      0.33      0.29      6864\n",
            "weighted avg       0.55      0.42      0.37      6864\n",
            "\n",
            "Accuracy: 0.4195804195804196\n"
          ],
          "name": "stdout"
        }
      ]
    },
    {
      "cell_type": "markdown",
      "metadata": {
        "id": "kMuRp6lqzOx8"
      },
      "source": [
        "DECISION TREE"
      ]
    },
    {
      "cell_type": "code",
      "metadata": {
        "id": "jhv_RuNPzP_N",
        "outputId": "56c9930c-93f1-499c-9b54-54ddfcd09a49",
        "colab": {
          "base_uri": "https://localhost:8080/",
          "height": 221
        }
      },
      "source": [
        "from sklearn.tree import DecisionTreeClassifier\n",
        "clf = DecisionTreeClassifier(random_state=0)\n",
        "\n",
        "clf.fit(X_train, y_train)\n",
        "y_pred = clf.predict(X_test)\n",
        "from sklearn.metrics import classification_report\n",
        "print(classification_report(y_test,y_pred,zero_division=1))\n",
        "print(\"Accuracy:\",metrics.accuracy_score(y_test, y_pred))"
      ],
      "execution_count": null,
      "outputs": [
        {
          "output_type": "stream",
          "text": [
            "              precision    recall  f1-score   support\n",
            "\n",
            "         CNT       0.00      0.00      0.00         9\n",
            "         GEN       0.37      0.36      0.36      1815\n",
            "         MAJ       0.42      0.44      0.43      2442\n",
            "         MIN       0.45      0.44      0.44      2598\n",
            "\n",
            "    accuracy                           0.42      6864\n",
            "   macro avg       0.31      0.31      0.31      6864\n",
            "weighted avg       0.42      0.42      0.42      6864\n",
            "\n",
            "Accuracy: 0.4163752913752914\n"
          ],
          "name": "stdout"
        }
      ]
    }
  ]
}