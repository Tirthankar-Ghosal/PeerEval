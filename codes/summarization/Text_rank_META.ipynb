{
  "nbformat": 4,
  "nbformat_minor": 0,
  "metadata": {
    "colab": {
      "name": "Copy of Summerazation_ML.ipynb",
      "provenance": [],
      "collapsed_sections": []
    },
    "kernelspec": {
      "name": "python3",
      "display_name": "Python 3"
    }
  },
  "cells": [
    {
      "cell_type": "code",
      "metadata": {
        "id": "cnGhfooxw5iH",
        "colab_type": "code",
        "colab": {
          "base_uri": "https://localhost:8080/",
          "height": 419
        },
        "outputId": "85bbbd84-9a7f-4026-d607-eaf1c376838d"
      },
      "source": [
        "import pickle\n",
        "import pandas as pd\n",
        "with open('/content/dic.pickle', 'rb') as handle:\n",
        "    dic = pickle.load(handle)\n",
        "df= pd.DataFrame.from_dict(dic,orient='index',columns=['real_summary','reviews'])\n",
        "df"
      ],
      "execution_count": null,
      "outputs": [
        {
          "output_type": "execute_result",
          "data": {
            "text/html": [
              "<div>\n",
              "<style scoped>\n",
              "    .dataframe tbody tr th:only-of-type {\n",
              "        vertical-align: middle;\n",
              "    }\n",
              "\n",
              "    .dataframe tbody tr th {\n",
              "        vertical-align: top;\n",
              "    }\n",
              "\n",
              "    .dataframe thead th {\n",
              "        text-align: right;\n",
              "    }\n",
              "</style>\n",
              "<table border=\"1\" class=\"dataframe\">\n",
              "  <thead>\n",
              "    <tr style=\"text-align: right;\">\n",
              "      <th></th>\n",
              "      <th>real_summary</th>\n",
              "      <th>reviews</th>\n",
              "    </tr>\n",
              "  </thead>\n",
              "  <tbody>\n",
              "    <tr>\n",
              "      <th>By0ANxbRW</th>\n",
              "      <td>Proposed network compression method offers lim...</td>\n",
              "      <td>This paper proposes a deep neural network com...</td>\n",
              "    </tr>\n",
              "    <tr>\n",
              "      <th>BkCV_W-AZ</th>\n",
              "      <td>The reviewers agree this is a really interesti...</td>\n",
              "      <td>Quality and clarityThe paper provides a gameth...</td>\n",
              "    </tr>\n",
              "    <tr>\n",
              "      <th>H1Y8hhg0b</th>\n",
              "      <td>The results in the paper are interesting, and ...</td>\n",
              "      <td>The paper introduces a technique for optimizin...</td>\n",
              "    </tr>\n",
              "    <tr>\n",
              "      <th>BkVsWbbAW</th>\n",
              "      <td>Thank you for submitting you paper to ICLR. Th...</td>\n",
              "      <td>This paper introduces a neural network archite...</td>\n",
              "    </tr>\n",
              "    <tr>\n",
              "      <th>HyXBcYg0b</th>\n",
              "      <td>The authors make an experimental study of the ...</td>\n",
              "      <td>The paper proposes a new neural network model ...</td>\n",
              "    </tr>\n",
              "    <tr>\n",
              "      <th>...</th>\n",
              "      <td>...</td>\n",
              "      <td>...</td>\n",
              "    </tr>\n",
              "    <tr>\n",
              "      <th>HkjL6MiTb</th>\n",
              "      <td>Reviewers unanimous in assessment that manuscr...</td>\n",
              "      <td>The authors tackle the problem of estimating r...</td>\n",
              "    </tr>\n",
              "    <tr>\n",
              "      <th>BJgPCveAW</th>\n",
              "      <td>The paper received weak scores: 4,4,5. R2 comp...</td>\n",
              "      <td>The paper seems to claims that) certain ConvNe...</td>\n",
              "    </tr>\n",
              "    <tr>\n",
              "      <th>B1X4DWWRb</th>\n",
              "      <td>The submission provides an interesting way to ...</td>\n",
              "      <td>The paper proposes a novel way of causal infer...</td>\n",
              "    </tr>\n",
              "    <tr>\n",
              "      <th>B1KFAGWAZ</th>\n",
              "      <td>The authors present a centralized neural contr...</td>\n",
              "      <td>This paper investigates multiagent reinforceme...</td>\n",
              "    </tr>\n",
              "    <tr>\n",
              "      <th>SysEexbRb</th>\n",
              "      <td>I recommend acceptance based on the positive r...</td>\n",
              "      <td>This paper studies the critical points of shal...</td>\n",
              "    </tr>\n",
              "  </tbody>\n",
              "</table>\n",
              "<p>313 rows × 2 columns</p>\n",
              "</div>"
            ],
            "text/plain": [
              "                                                real_summary                                            reviews\n",
              "By0ANxbRW  Proposed network compression method offers lim...   This paper proposes a deep neural network com...\n",
              "BkCV_W-AZ  The reviewers agree this is a really interesti...  Quality and clarityThe paper provides a gameth...\n",
              "H1Y8hhg0b  The results in the paper are interesting, and ...  The paper introduces a technique for optimizin...\n",
              "BkVsWbbAW  Thank you for submitting you paper to ICLR. Th...  This paper introduces a neural network archite...\n",
              "HyXBcYg0b  The authors make an experimental study of the ...  The paper proposes a new neural network model ...\n",
              "...                                                      ...                                                ...\n",
              "HkjL6MiTb  Reviewers unanimous in assessment that manuscr...  The authors tackle the problem of estimating r...\n",
              "BJgPCveAW  The paper received weak scores: 4,4,5. R2 comp...  The paper seems to claims that) certain ConvNe...\n",
              "B1X4DWWRb  The submission provides an interesting way to ...  The paper proposes a novel way of causal infer...\n",
              "B1KFAGWAZ  The authors present a centralized neural contr...  This paper investigates multiagent reinforceme...\n",
              "SysEexbRb  I recommend acceptance based on the positive r...  This paper studies the critical points of shal...\n",
              "\n",
              "[313 rows x 2 columns]"
            ]
          },
          "metadata": {
            "tags": []
          },
          "execution_count": 1
        }
      ]
    },
    {
      "cell_type": "code",
      "metadata": {
        "id": "hts18CjhLDlA",
        "colab_type": "code",
        "colab": {
          "base_uri": "https://localhost:8080/",
          "height": 51
        },
        "outputId": "0391aa51-8716-4b0b-b516-e647a5575982"
      },
      "source": [
        "import nltk\n",
        "from nltk.corpus import stopwords\n",
        "from nltk.cluster.util import cosine_distance\n",
        "import numpy as np\n",
        "import networkx as nx\n",
        "nltk.download(\"stopwords\")\n",
        "stop_words = stopwords.words('english')\n",
        "\n",
        "def read_article(file_name):\n",
        "    filedata = file_name\n",
        "    sentences = []\n",
        "    article = filedata.split(\".\")\n",
        "\n",
        "    for sentence in article:\n",
        "        sentences.append(sentence.replace(\"[^a-zA-Z]\", \" \").split(\" \"))\n",
        "    sentences.pop() \n",
        "    return sentences\n",
        "\n",
        "def sentence_similarity(sent1, sent2, stopwords=None):\n",
        "    if stopwords is None:\n",
        "        stopwords = []\n",
        " \n",
        "    sent1 = [w.lower() for w in sent1]\n",
        "    sent2 = [w.lower() for w in sent2]\n",
        " \n",
        "    all_words = list(set(sent1 + sent2))\n",
        " \n",
        "    vector1 = [0] * len(all_words)\n",
        "    vector2 = [0] * len(all_words)\n",
        " \n",
        "    # build the vector for the first sentence\n",
        "    for w in sent1:\n",
        "        if w in stopwords:\n",
        "            continue\n",
        "        vector1[all_words.index(w)] += 1\n",
        " \n",
        "    # build the vector for the second sentence\n",
        "    for w in sent2:\n",
        "        if w in stopwords:\n",
        "            continue\n",
        "        vector2[all_words.index(w)] += 1\n",
        " \n",
        "    return 1 - cosine_distance(vector1, vector2)\n",
        " \n",
        "def build_similarity_matrix(sentences, stop_words):\n",
        "    # Create an empty similarity matrix\n",
        "    similarity_matrix = np.zeros((len(sentences), len(sentences)))\n",
        " \n",
        "    for idx1 in range(len(sentences)):\n",
        "        for idx2 in range(len(sentences)):\n",
        "            if idx1 == idx2: #ignore if both are same sentences\n",
        "                continue \n",
        "            similarity_matrix[idx1][idx2] = sentence_similarity(sentences[idx1], sentences[idx2], stop_words)\n",
        "\n",
        "    return similarity_matrix\n",
        "\n",
        "\n",
        "def generate_summary(file_name, top_n=5):\n",
        "    \n",
        "    summarize_text = []\n",
        "\n",
        "    # Step 1 - Read text anc split it\n",
        "    sentences =  read_article(file_name)\n",
        " \n",
        "    # Step 2 - Generate Similary Martix across sentences\n",
        "    sentence_similarity_martix = build_similarity_matrix(sentences, stop_words)\n",
        "\n",
        "    # Step 3 - Rank sentences in similarity martix\n",
        "    sentence_similarity_graph = nx.from_numpy_array(sentence_similarity_martix)\n",
        "    scores = nx.pagerank(sentence_similarity_graph)\n",
        "\n",
        "    # Step 4 - Sort the rank and pick top sentences\n",
        "    ranked_sentence = sorted(((scores[i],s) for i,s in enumerate(sentences)), reverse=True)    \n",
        "    #print(\"Indexes of top ranked_sentence order are \", ranked_sentence)   \n",
        "    #print(ranked_sentence)\n",
        "\n",
        "    for i in range(top_n):\n",
        "      summarize_text.append(\" \".join(ranked_sentence[i][1]))\n",
        "\n",
        "    return \". \".join(summarize_text)"
      ],
      "execution_count": null,
      "outputs": [
        {
          "output_type": "stream",
          "text": [
            "[nltk_data] Downloading package stopwords to /root/nltk_data...\n",
            "[nltk_data]   Package stopwords is already up-to-date!\n"
          ],
          "name": "stdout"
        }
      ]
    },
    {
      "cell_type": "code",
      "metadata": {
        "id": "ZEhgyQuaLF9-",
        "colab_type": "code",
        "colab": {}
      },
      "source": [
        "reviews= df['reviews']\n",
        "summary=[]\n",
        "for review in reviews:\n",
        "    article = review.split(\".\")\n",
        "    if(len(article)<=2):\n",
        "      summary.append(review)\n",
        "    else:\n",
        "      summary.append(generate_summary(review, 2))"
      ],
      "execution_count": null,
      "outputs": []
    },
    {
      "cell_type": "code",
      "metadata": {
        "id": "45w69Mjv31Qm",
        "colab_type": "code",
        "colab": {
          "base_uri": "https://localhost:8080/",
          "height": 419
        },
        "outputId": "8c9c6630-8d38-48d5-e3e6-dd1226dfb17c"
      },
      "source": [
        "df['auto_summary']=summary\n",
        "df"
      ],
      "execution_count": null,
      "outputs": [
        {
          "output_type": "execute_result",
          "data": {
            "text/html": [
              "<div>\n",
              "<style scoped>\n",
              "    .dataframe tbody tr th:only-of-type {\n",
              "        vertical-align: middle;\n",
              "    }\n",
              "\n",
              "    .dataframe tbody tr th {\n",
              "        vertical-align: top;\n",
              "    }\n",
              "\n",
              "    .dataframe thead th {\n",
              "        text-align: right;\n",
              "    }\n",
              "</style>\n",
              "<table border=\"1\" class=\"dataframe\">\n",
              "  <thead>\n",
              "    <tr style=\"text-align: right;\">\n",
              "      <th></th>\n",
              "      <th>real_summary</th>\n",
              "      <th>reviews</th>\n",
              "      <th>auto_summary</th>\n",
              "    </tr>\n",
              "  </thead>\n",
              "  <tbody>\n",
              "    <tr>\n",
              "      <th>By0ANxbRW</th>\n",
              "      <td>Proposed network compression method offers lim...</td>\n",
              "      <td>This paper proposes a deep neural network com...</td>\n",
              "      <td>This paper proposes a deep neural network com...</td>\n",
              "    </tr>\n",
              "    <tr>\n",
              "      <th>BkCV_W-AZ</th>\n",
              "      <td>The reviewers agree this is a really interesti...</td>\n",
              "      <td>Quality and clarityThe paper provides a gameth...</td>\n",
              "      <td>This paper introduces the concepts of counterf...</td>\n",
              "    </tr>\n",
              "    <tr>\n",
              "      <th>H1Y8hhg0b</th>\n",
              "      <td>The results in the paper are interesting, and ...</td>\n",
              "      <td>The paper introduces a technique for optimizin...</td>\n",
              "      <td>This paper presents a continuous surrogate for...</td>\n",
              "    </tr>\n",
              "    <tr>\n",
              "      <th>BkVsWbbAW</th>\n",
              "      <td>Thank you for submitting you paper to ICLR. Th...</td>\n",
              "      <td>This paper introduces a neural network archite...</td>\n",
              "      <td>This paper reports on a system for sequential ...</td>\n",
              "    </tr>\n",
              "    <tr>\n",
              "      <th>HyXBcYg0b</th>\n",
              "      <td>The authors make an experimental study of the ...</td>\n",
              "      <td>The paper proposes a new neural network model ...</td>\n",
              "      <td>The paper proposes an adaptation of existing G...</td>\n",
              "    </tr>\n",
              "    <tr>\n",
              "      <th>...</th>\n",
              "      <td>...</td>\n",
              "      <td>...</td>\n",
              "      <td>...</td>\n",
              "    </tr>\n",
              "    <tr>\n",
              "      <th>HkjL6MiTb</th>\n",
              "      <td>Reviewers unanimous in assessment that manuscr...</td>\n",
              "      <td>The authors tackle the problem of estimating r...</td>\n",
              "      <td>This paper introduces siamese neural networks ...</td>\n",
              "    </tr>\n",
              "    <tr>\n",
              "      <th>BJgPCveAW</th>\n",
              "      <td>The paper received weak scores: 4,4,5. R2 comp...</td>\n",
              "      <td>The paper seems to claims that) certain ConvNe...</td>\n",
              "      <td>This paper examines sparse connection patterns...</td>\n",
              "    </tr>\n",
              "    <tr>\n",
              "      <th>B1X4DWWRb</th>\n",
              "      <td>The submission provides an interesting way to ...</td>\n",
              "      <td>The paper proposes a novel way of causal infer...</td>\n",
              "      <td>This paper proposes a deep learning architectu...</td>\n",
              "    </tr>\n",
              "    <tr>\n",
              "      <th>B1KFAGWAZ</th>\n",
              "      <td>The authors present a centralized neural contr...</td>\n",
              "      <td>This paper investigates multiagent reinforceme...</td>\n",
              "      <td>This paper investigates multiagent reinforceme...</td>\n",
              "    </tr>\n",
              "    <tr>\n",
              "      <th>SysEexbRb</th>\n",
              "      <td>I recommend acceptance based on the positive r...</td>\n",
              "      <td>This paper studies the critical points of shal...</td>\n",
              "      <td>This paper studies the critical points of shal...</td>\n",
              "    </tr>\n",
              "  </tbody>\n",
              "</table>\n",
              "<p>313 rows × 3 columns</p>\n",
              "</div>"
            ],
            "text/plain": [
              "                                                real_summary  ...                                       auto_summary\n",
              "By0ANxbRW  Proposed network compression method offers lim...  ...   This paper proposes a deep neural network com...\n",
              "BkCV_W-AZ  The reviewers agree this is a really interesti...  ...  This paper introduces the concepts of counterf...\n",
              "H1Y8hhg0b  The results in the paper are interesting, and ...  ...  This paper presents a continuous surrogate for...\n",
              "BkVsWbbAW  Thank you for submitting you paper to ICLR. Th...  ...  This paper reports on a system for sequential ...\n",
              "HyXBcYg0b  The authors make an experimental study of the ...  ...  The paper proposes an adaptation of existing G...\n",
              "...                                                      ...  ...                                                ...\n",
              "HkjL6MiTb  Reviewers unanimous in assessment that manuscr...  ...  This paper introduces siamese neural networks ...\n",
              "BJgPCveAW  The paper received weak scores: 4,4,5. R2 comp...  ...  This paper examines sparse connection patterns...\n",
              "B1X4DWWRb  The submission provides an interesting way to ...  ...  This paper proposes a deep learning architectu...\n",
              "B1KFAGWAZ  The authors present a centralized neural contr...  ...  This paper investigates multiagent reinforceme...\n",
              "SysEexbRb  I recommend acceptance based on the positive r...  ...  This paper studies the critical points of shal...\n",
              "\n",
              "[313 rows x 3 columns]"
            ]
          },
          "metadata": {
            "tags": []
          },
          "execution_count": 7
        }
      ]
    },
    {
      "cell_type": "code",
      "metadata": {
        "id": "-tv4Q1OT32gS",
        "colab_type": "code",
        "colab": {}
      },
      "source": [
        "real_summary= df['real_summary'].tolist()\n",
        "auto_summary= df['auto_summary'].tolist()"
      ],
      "execution_count": null,
      "outputs": []
    },
    {
      "cell_type": "code",
      "metadata": {
        "id": "5lvudPlH3T0t",
        "colab_type": "code",
        "colab": {}
      },
      "source": [
        "with open('ref.txt', 'w') as f:\n",
        "    for item in real_summary:\n",
        "        f.write(\"%s\\n\" % item)"
      ],
      "execution_count": null,
      "outputs": []
    },
    {
      "cell_type": "code",
      "metadata": {
        "id": "gEhYH8ZgH62N",
        "colab_type": "code",
        "colab": {}
      },
      "source": [
        "with open('hyp.txt', 'w') as f:\n",
        "    for item in auto_summary:\n",
        "        f.write(\"%s\\n\" % item)"
      ],
      "execution_count": null,
      "outputs": []
    },
    {
      "cell_type": "code",
      "metadata": {
        "id": "GGA2GgW_1BYy",
        "colab_type": "code",
        "colab": {}
      },
      "source": [
        "import json \n",
        "def dump(hyp,ref,filename):\n",
        "  # Data to be written \n",
        "  dictionary ={ \n",
        "      \"hyp\" : hyp, \n",
        "      \"ref\" : ref\n",
        "  } \n",
        "    \n",
        "  with open(filename, \"a\") as outfile: \n",
        "      json.dump(dictionary, outfile) \n",
        "      outfile.write(',\\n')"
      ],
      "execution_count": null,
      "outputs": []
    },
    {
      "cell_type": "code",
      "metadata": {
        "id": "SXqeQyyxZxWT",
        "colab_type": "code",
        "colab": {}
      },
      "source": [
        "for i in range(0,len(real_summary)):\n",
        "    dump(auto_summary[i],real_summary[i],\"TextRankMeta.json\")"
      ],
      "execution_count": null,
      "outputs": []
    }
  ]
}